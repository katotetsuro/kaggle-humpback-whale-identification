{
 "cells": [
  {
   "cell_type": "code",
   "execution_count": null,
   "metadata": {},
   "outputs": [],
   "source": [
    "%load_ext autoreload\n",
    "%autoreload 2"
   ]
  },
  {
   "cell_type": "code",
   "execution_count": null,
   "metadata": {},
   "outputs": [],
   "source": [
    "import sys\n",
    "sys.path.append('../src')"
   ]
  },
  {
   "cell_type": "code",
   "execution_count": null,
   "metadata": {},
   "outputs": [],
   "source": [
    "from model.gap_resnet import GapResnet\n",
    "from pathlib import Path\n",
    "from PIL import Image\n",
    "from torchvision import transforms\n",
    "import torch\n",
    "import numpy as np\n",
    "import pandas as pd\n",
    "from tqdm import tqdm"
   ]
  },
  {
   "cell_type": "code",
   "execution_count": null,
   "metadata": {},
   "outputs": [],
   "source": [
    "model_name = 'model_gap_resnet_6_train_acc=0.1073622.pth'\n",
    "PATH = Path('../tensorboard_logs').joinpath(model_name)"
   ]
  },
  {
   "cell_type": "code",
   "execution_count": null,
   "metadata": {},
   "outputs": [],
   "source": [
    "loc = 'cuda:0' if torch.cuda.is_available() else 'cpu'\n",
    "model = torch.load(PATH, map_location=loc)"
   ]
  },
  {
   "cell_type": "code",
   "execution_count": null,
   "metadata": {},
   "outputs": [],
   "source": [
    "test_images = list(Path('../data/test').glob('*.jpg'))"
   ]
  },
  {
   "cell_type": "code",
   "execution_count": null,
   "metadata": {},
   "outputs": [],
   "source": [
    "def predict(img_path, n_test, top_k=5):\n",
    "    img = Image.open(img_path).convert('RGB')\n",
    "    test_transform = transforms.Compose([\n",
    "        transforms.RandomHorizontalFlip(),\n",
    "        transforms.RandomRotation(20, resample=Image.BILINEAR),\n",
    "        transforms.RandomCrop((200, 800), pad_if_needed=True),\n",
    "        transforms.ToTensor()\n",
    "    ])\n",
    "    \n",
    "    with torch.no_grad():\n",
    "        x = torch.stack([test_transform(img) for _ in range(n_test)])\n",
    "        if torch.cuda.is_available():\n",
    "            x = x.cuda()\n",
    "            y = model(x).cpu().numpy()\n",
    "        else:\n",
    "            y = model(x).numpy()\n",
    "    z = np.sum(y, axis=0)\n",
    "#     for _ in range(n_test):\n",
    "        \n",
    "#         i = test_transform(img)\n",
    "#         with torch.no_grad():\n",
    "#             y = model(i[None]).numpy()\n",
    "#             if z is None:\n",
    "#                 z = y\n",
    "#             else:\n",
    "#                 z += y\n",
    "    \n",
    "    return  np.argsort(z.ravel())[-top_k:][::-1]"
   ]
  },
  {
   "cell_type": "code",
   "execution_count": null,
   "metadata": {},
   "outputs": [],
   "source": [
    "with open('../data/labels.txt', 'r') as f:\n",
    "    label_names = list(map(lambda x: x.strip(), f.readlines()))"
   ]
  },
  {
   "cell_type": "code",
   "execution_count": null,
   "metadata": {},
   "outputs": [],
   "source": [
    "ids = []\n",
    "for img_path in tqdm(test_images[:1]):\n",
    "    preds = predict(img_path, 8)\n",
    "    labels = [label_names[i] for i in preds]\n",
    "    ids.append(' '.join(labels))"
   ]
  },
  {
   "cell_type": "code",
   "execution_count": null,
   "metadata": {},
   "outputs": [],
   "source": [
    "image_files = [i.name for i in test_images]"
   ]
  },
  {
   "cell_type": "code",
   "execution_count": null,
   "metadata": {},
   "outputs": [],
   "source": [
    "df = pd.DataFrame(columns=['Image', 'Id'])"
   ]
  },
  {
   "cell_type": "code",
   "execution_count": null,
   "metadata": {},
   "outputs": [],
   "source": [
    "df['Image'] = image_files\n",
    "df['Id'] = ids"
   ]
  },
  {
   "cell_type": "code",
   "execution_count": null,
   "metadata": {},
   "outputs": [],
   "source": [
    "df"
   ]
  },
  {
   "cell_type": "code",
   "execution_count": null,
   "metadata": {},
   "outputs": [],
   "source": [
    "df.to_csv(Path('submit').joinpath(Path(model_name).suffix))"
   ]
  },
  {
   "cell_type": "code",
   "execution_count": null,
   "metadata": {},
   "outputs": [],
   "source": [
    "from PIL import Image\n",
    "from argparse import ArgumentParser\n",
    "import torch\n",
    "from torch import nn\n",
    "from torch.utils.data import DataLoader\n",
    "import torch.nn.functional as F\n",
    "from torch.optim import SGD\n",
    "from torchvision import transforms\n",
    "from tensorboardX import SummaryWriter\n",
    "from ignite.engine import Events, create_supervised_trainer, create_supervised_evaluator\n",
    "from ignite.metrics import Accuracy, Loss\n",
    "from ignite.handlers import ModelCheckpoint\n",
    "\n",
    "from data_loader import LabeledImageDataset\n",
    "from model.gap_resnet import GapResnet\n",
    "\n",
    "train_data_transform = transforms.Compose([\n",
    "        transforms.RandomGrayscale(p=0.2),\n",
    "        transforms.RandomHorizontalFlip(),\n",
    "        transforms.RandomRotation(20, resample=Image.BILINEAR),\n",
    "        transforms.CenterCrop((200, 800)),\n",
    "        transforms.ToTensor()\n",
    "    ])\n",
    "\n",
    "ds = LabeledImageDataset('../data', transform=train_data_transform)\n",
    "\n",
    "pred = []\n",
    "truth = []\n",
    "for i in range(100):\n",
    "    x, t = ds[i]\n",
    "    y = predict(x, 8)\n",
    "    #with torch.no_grad():\n",
    "    #    y = np.argmax(model(x[None]).numpy())\n",
    "    pred.append(y)\n",
    "    truth.append(t)\n",
    "pred = np.array(pred)\n",
    "truth = np.array(truth)"
   ]
  },
  {
   "cell_type": "code",
   "execution_count": null,
   "metadata": {},
   "outputs": [],
   "source": [
    "np.sum(pred == truth) / len(pred)"
   ]
  },
  {
   "cell_type": "code",
   "execution_count": null,
   "metadata": {},
   "outputs": [],
   "source": [
    "df = pd.read_csv('../data/train_with_id.csv')"
   ]
  },
  {
   "cell_type": "code",
   "execution_count": null,
   "metadata": {},
   "outputs": [],
   "source": [
    "ys = []\n",
    "ls = []\n",
    "for i in range(10):\n",
    "    img, _, l = df.iloc[i]\n",
    "    y = predict(Path('../data/train').joinpath(img), 8)\n",
    "    ls.append(l)\n",
    "    ys.append(y)\n",
    "    \n",
    "ys = np.array(ys)\n",
    "ls = np.array(ls)"
   ]
  },
  {
   "cell_type": "code",
   "execution_count": null,
   "metadata": {},
   "outputs": [],
   "source": [
    "np.sum(ys[:, 0]==ls) / len(ys)"
   ]
  },
  {
   "cell_type": "code",
   "execution_count": null,
   "metadata": {},
   "outputs": [],
   "source": []
  }
 ],
 "metadata": {
  "kernelspec": {
   "display_name": "Environment (conda_pytorch)",
   "language": "python",
   "name": "conda_pytorch"
  },
  "language_info": {
   "codemirror_mode": {
    "name": "ipython",
    "version": 3
   },
   "file_extension": ".py",
   "mimetype": "text/x-python",
   "name": "python",
   "nbconvert_exporter": "python",
   "pygments_lexer": "ipython3",
   "version": "3.6.7"
  }
 },
 "nbformat": 4,
 "nbformat_minor": 2
}
